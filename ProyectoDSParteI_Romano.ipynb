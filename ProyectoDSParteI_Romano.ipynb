{
 "cells": [
  {
   "cell_type": "markdown",
   "id": "6cc0f420",
   "metadata": {},
   "source": [
    "### Abstract\n",
    "\n",
    "Este proyecto tiene como objetivo explorar y analizar un conjunto de datos que reúne información sobre los videojuegos más vendidos en la historia, abarcando títulos desde la década de los 80 hasta la actualidad. El dataset incluye variables como el nombre del videojuego, plataforma de lanzamiento, género, desarrolladora, editora, fechas de salida, ventas por región (Norteamérica, Europa, Japón, otros), ventas globales, puntuaciones de críticos y usuarios, y clasificación ESRB.\n",
    "\n",
    "La industria de los videojuegos se ha consolidado como uno de los sectores más relevantes del entretenimiento a nivel global, y este análisis busca detectar patrones y tendencias que ayuden a entender qué factores influyen en el éxito comercial de un videojuego. A partir de este conjunto de datos, se plantea una serie de preguntas de interés: ¿Qué géneros dominan en términos de ventas globales? ¿Qué plataformas han sido las más exitosas a lo largo del tiempo? ¿Existe alguna relación entre la puntuación crítica o de los usuarios y las ventas totales? ¿Las preferencias del público varían significativamente entre regiones?\n",
    "\n",
    "Para abordar estas preguntas se utilizarán herramientas del ecosistema Python como `pandas`, `matplotlib`, `seaborn` y `numpy`, a fin de realizar un análisis exploratorio de los datos, generando visualizaciones que permitan interpretar mejor la información disponible. Se crearán gráficos univariados, bivariados y multivariados que involucren al menos tres variables clave para comprender la dinámica entre género, plataforma y ventas. A su vez, se analizarán los valores faltantes presentes en el dataset y se evaluará su impacto potencial en el análisis posterior.\n",
    "\n",
    "Este primer entregable incluye el planteo del problema, la formulación de hipótesis iniciales, un diagnóstico preliminar de los datos y la generación de visualizaciones acompañadas de interpretaciones, como parte del proceso para responder a las preguntas de interés del proyecto.\n"
   ]
  },
  {
   "cell_type": "markdown",
   "id": "fc9d257c",
   "metadata": {},
   "source": [
    "### Preguntas e Hipótesis\n",
    "\n",
    "1. ¿Qué géneros tienen mayor volumen de ventas globales?\n",
    "2. ¿Qué plataformas concentran más títulos exitosos?\n",
    "3. ¿Existe una relación positiva entre la puntuación de los críticos y las ventas globales?\n",
    "4. ¿Las preferencias regionales (NA, EU, JP) cambian según el género del juego?\n",
    "5. ¿Qué tan significativa es la presencia de valores perdidos en el dataset?\n",
    "\n",
    "Estas preguntas guiarán las visualizaciones y el análisis numérico inicial.\n"
   ]
  },
  {
   "cell_type": "code",
   "execution_count": null,
   "id": "17b57701",
   "metadata": {},
   "outputs": [],
   "source": [
    "import pandas as pd\n",
    "import matplotlib.pyplot as plt\n",
    "import seaborn as sns\n",
    "import numpy as np\n",
    "\n",
    "url = "https://raw.githubusercontent.com/MarcosRomano13/proyecto-ciencia-datos-videojuegos/main/Dataset_final.csv"
     df = pd.read_csv(url)")\n",
    "df.columns = df.columns.str.strip().str.replace(\" \", \"_\")\n",
    "df.head()\n"
   ]
  },
  {
   "cell_type": "code",
   "execution_count": null,
   "id": "12d2631f",
   "metadata": {},
   "outputs": [],
   "source": [
    "missing = df.isnull().sum()\n",
    "missing_percent = (missing / len(df)) * 100\n",
    "missing_df = pd.DataFrame({'Valores_Nulos': missing, 'Porcentaje': missing_percent})\n",
    "missing_df[missing_df.Valores_Nulos > 0]\n"
   ]
  },
  {
   "cell_type": "markdown",
   "id": "8156a697",
   "metadata": {},
   "source": [
    "### Visualización 1: Promedio de ventas globales por género y plataforma"
   ]
  },
  {
   "cell_type": "code",
   "execution_count": null,
   "id": "885aa660",
   "metadata": {},
   "outputs": [],
   "source": [
    "from IPython.display import Image\n",
    "Image(filename='heatmap_ventas_genero_plataforma.png')"
   ]
  },
  {
   "cell_type": "markdown",
   "id": "f7a1410b",
   "metadata": {},
   "source": [
    "### Visualización 2: Relación entre crítica y ventas globales"
   ]
  },
  {
   "cell_type": "code",
   "execution_count": null,
   "id": "c05954fc",
   "metadata": {},
   "outputs": [],
   "source": [
    "Image(filename='scatter_critica_ventas.png')"
   ]
  },
  {
   "cell_type": "markdown",
   "id": "af4e0839",
   "metadata": {},
   "source": [
    "### Visualización 3: Distribución de ventas en NA por género"
   ]
  },
  {
   "cell_type": "code",
   "execution_count": null,
   "id": "d027c85a",
   "metadata": {},
   "outputs": [],
   "source": [
    "Image(filename='boxplot_ventas_na_genero.png')"
   ]
  }
 ],
 "metadata": {},
 "nbformat": 4,
 "nbformat_minor": 5
}
