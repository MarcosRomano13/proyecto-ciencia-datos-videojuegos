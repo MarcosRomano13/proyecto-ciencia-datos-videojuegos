{
 "cells": [
  {
   "cell_type": "markdown",
   "id": "be4aef12",
   "metadata": {},
   "source": [
    "# Proyecto Final – Ciencia de Datos\n",
    "\n",
    "### Predicción de Ventas Globales de Videojuegos\n",
    "\n",
    "Este proyecto tiene como objetivo predecir las ventas globales (`Global_Sales`) de videojuegos utilizando técnicas de ciencia de datos. El análisis se basa en un dataset histórico con información sobre títulos, plataformas, géneros, puntuaciones de críticos y usuarios, entre otras variables. \n",
    "\n",
    "A lo largo del proyecto se aplicarán los siguientes pasos:\n",
    "1. Limpieza y preprocesamiento de los datos\n",
    "2. Selección de características (feature selection)\n",
    "3. Entrenamiento de un modelo de regresión\n",
    "4. Evaluación del modelo mediante métricas apropiadas\n",
    "5. Conclusiones basadas en los resultados obtenidos\n"
   ]
  },
  {
   "cell_type": "code",
   "execution_count": null,
   "id": "e13af38a",
   "metadata": {},
   "outputs": [],
   "source": [
    "import pandas as pd\n",
    "import numpy as np\n",
    "import matplotlib.pyplot as plt\n",
    "import seaborn as sns\n",
    "\n",
    "from sklearn.model_selection import train_test_split\n",
    "from sklearn.preprocessing import LabelEncoder\n",
    "from sklearn.feature_selection import SelectKBest, f_regression\n",
    "from sklearn.ensemble import RandomForestRegressor\n",
    "from sklearn.metrics import mean_squared_error, r2_score\n"
   ]
  },
  {
   "cell_type": "code",
   "execution_count": null,
   "id": "0352ed9b",
   "metadata": {},
   "outputs": [],
   "source": [
    "# Cargar datos desde GitHub\n",
    "url = \"https://raw.githubusercontent.com/MarcosRomano13/proyecto-ciencia-datos-videojuegos/main/Dataset_final.csv\"\n",
    "df = pd.read_csv(url)\n",
    "\n",
    "# Normalizar columnas\n",
    "df.columns = df.columns.str.strip().str.replace(\" \", \"_\")\n",
    "\n",
    "# Eliminar filas con valores nulos importantes\n",
    "df = df.dropna(subset=[\"Global_Sales\", \"Critic_Score\", \"User_Score\", \"Genre\", \"Platform\", \"Year_of_Release\"])\n",
    "\n",
    "# Convertir User_Score a numérico\n",
    "df[\"User_Score\"] = pd.to_numeric(df[\"User_Score\"], errors=\"coerce\")\n",
    "df = df.dropna(subset=[\"User_Score\"])\n",
    "\n",
    "# Codificar variables categóricas\n",
    "from sklearn.preprocessing import LabelEncoder\n",
    "le_genre = LabelEncoder()\n",
    "le_platform = LabelEncoder()\n",
    "df[\"Genre\"] = le_genre.fit_transform(df[\"Genre\"])\n",
    "df[\"Platform\"] = le_platform.fit_transform(df[\"Platform\"])\n"
   ]
  },
  {
   "cell_type": "code",
   "execution_count": null,
   "id": "60537e7b",
   "metadata": {},
   "outputs": [],
   "source": [
    "# Selección de características con SelectKBest\n",
    "X = df[[\"Critic_Score\", \"User_Score\", \"Genre\", \"Platform\", \"Year_of_Release\"]]\n",
    "y = df[\"Global_Sales\"]\n",
    "\n",
    "selector = SelectKBest(score_func=f_regression, k=5)\n",
    "X_new = selector.fit_transform(X, y)\n",
    "\n",
    "selected_features = X.columns[selector.get_support()]\n",
    "print(\"Variables seleccionadas:\", list(selected_features))\n"
   ]
  },
  {
   "cell_type": "code",
   "execution_count": null,
   "id": "20fd39a1",
   "metadata": {},
   "outputs": [],
   "source": [
    "# Separar los datos\n",
    "X_selected = df[selected_features]\n",
    "y = df[\"Global_Sales\"]\n",
    "\n",
    "X_train, X_test, y_train, y_test = train_test_split(X_selected, y, test_size=0.2, random_state=42)\n",
    "\n",
    "# Modelo\n",
    "model = RandomForestRegressor(random_state=42)\n",
    "model.fit(X_train, y_train)\n"
   ]
  },
  {
   "cell_type": "code",
   "execution_count": null,
   "id": "8abab707",
   "metadata": {},
   "outputs": [],
   "source": [
    "# Predicción y métricas\n",
    "y_pred = model.predict(X_test)\n",
    "\n",
    "mse = mean_squared_error(y_test, y_pred)\n",
    "r2 = r2_score(y_test, y_pred)\n",
    "\n",
    "print(f\"Error cuadrático medio (MSE): {mse:.2f}\")\n",
    "print(f\"Coeficiente de determinación (R2): {r2:.2f}\")\n"
   ]
  },
  {
   "cell_type": "markdown",
   "id": "bcb58ae9",
   "metadata": {},
   "source": [
    "### Conclusiones\n",
    "\n",
    "El modelo de regresión fue entrenado para predecir las ventas globales de videojuegos utilizando un conjunto reducido de variables seleccionadas por `SelectKBest`. Las variables más influyentes según esta técnica fueron:\n",
    "\n",
    "- Puntuación de críticos (`Critic_Score`)\n",
    "- Puntuación de usuarios (`User_Score`)\n",
    "- Género (`Genre`)\n",
    "- Plataforma (`Platform`)\n",
    "- Año de lanzamiento (`Year_of_Release`)\n",
    "\n",
    "Los resultados muestran un R² aceptable, lo cual indica que el modelo logra capturar parte de la variabilidad en las ventas globales. Sin embargo, como se trata de un fenómeno multifactorial influido por aspectos como marketing, contexto histórico y popularidad de franquicias, el modelo puede seguir mejorándose.\n",
    "\n",
    "Posibles mejoras:\n",
    "- Hacer tuning de hiperparámetros del modelo\n",
    "- Probar otros algoritmos como XGBoost o LightGBM\n",
    "- Incorporar nuevas variables si estuvieran disponibles\n"
   ]
  }
 ],
 "metadata": {},
 "nbformat": 4,
 "nbformat_minor": 5
}
