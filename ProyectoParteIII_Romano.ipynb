{
 "cells": [
  {
   "cell_type": "code",
   "execution_count": null,
   "id": "d08ed689",
   "metadata": {},
   "outputs": [],
   "source": [
    "# Cargar datos desde GitHub\n",
    "url = \"https://raw.githubusercontent.com/MarcosRomano13/proyecto-ciencia-datos-videojuegos/main/Dataset_final.csv\"\n",
    "df = pd.read_csv(url)\n",
    "\n",
    "# Normalizar nombres de columnas\n",
    "df.columns = df.columns.str.strip().str.replace(\" \", \"_\")\n",
    "\n",
    "# Convertir Release_Date a datetime y extraer el año\n",
    "df[\"Release_Date\"] = pd.to_datetime(df[\"Release_Date\"], errors=\"coerce\")\n",
    "df[\"Year_of_Release\"] = df[\"Release_Date\"].dt.year\n",
    "\n",
    "# Eliminar filas con valores nulos importantes\n",
    "df = df.dropna(subset=[\n",
    "    \"Global_Sales\", \"Critic_Score\", \"User_Score\",\n",
    "    \"Genre\", \"Platform\", \"Year_of_Release\"\n",
    "])\n",
    "\n",
    "# Asegurar que User_Score sea numérico y sin SettingWithCopyWarning\n",
    "df.loc[:, \"User_Score\"] = pd.to_numeric(df[\"User_Score\"], errors=\"coerce\")\n",
    "df = df.dropna(subset=[\"User_Score\"])\n",
    "\n",
    "# Codificación de variables categóricas\n",
    "from sklearn.preprocessing import LabelEncoder\n",
    "le_genre = LabelEncoder()\n",
    "le_platform = LabelEncoder()\n",
    "df[\"Genre\"] = le_genre.fit_transform(df[\"Genre\"])\n",
    "df[\"Platform\"] = le_platform.fit_transform(df[\"Platform\"])\n"
   ]
  }
 ],
 "metadata": {},
 "nbformat": 4,
 "nbformat_minor": 5
}
