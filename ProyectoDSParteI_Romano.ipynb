{
 "cells": [
  {
   "cell_type": "markdown",
   "id": "bbee6673",
   "metadata": {},
   "source": [
    "### Abstract\n",
    "\n",
    "Este proyecto tiene como objetivo explorar y analizar un conjunto de datos que reúne información sobre los videojuegos más vendidos en la historia, abarcando títulos desde la década de los 80 hasta la actualidad. El dataset incluye variables como el nombre del videojuego, plataforma de lanzamiento, género, desarrolladora, editora, fechas de salida, ventas por región (Norteamérica, Europa, Japón, otros), ventas globales, puntuaciones de críticos y usuarios, y clasificación ESRB.\n",
    "\n",
    "La industria de los videojuegos se ha consolidado como uno de los sectores más relevantes del entretenimiento a nivel global, y este análisis busca detectar patrones y tendencias que ayuden a entender qué factores influyen en el éxito comercial de un videojuego. A partir de este conjunto de datos, se plantea una serie de preguntas de interés: ¿Qué géneros dominan en términos de ventas globales? ¿Qué plataformas han sido las más exitosas a lo largo del tiempo? ¿Existe alguna relación entre la puntuación crítica o de los usuarios y las ventas totales? ¿Las preferencias del público varían significativamente entre regiones?\n",
    "\n",
    "Para abordar estas preguntas se utilizarán herramientas del ecosistema Python como `pandas`, `matplotlib`, `seaborn` y `numpy`, a fin de realizar un análisis exploratorio de los datos, generando visualizaciones que permitan interpretar mejor la información disponible. Se crearán gráficos univariados, bivariados y multivariados que involucren al menos tres variables clave para comprender la dinámica entre género, plataforma y ventas. A su vez, se analizarán los valores faltantes presentes en el dataset y se evaluará su impacto potencial en el análisis posterior.\n",
    "\n",
    "Este primer entregable incluye el planteo del problema, la formulación de hipótesis iniciales, un diagnóstico preliminar de los datos y la generación de visualizaciones acompañadas de interpretaciones, como parte del proceso para responder a las preguntas de interés del proyecto.\n"
   ]
  },
  {
   "cell_type": "markdown",
   "id": "14e58cbe",
   "metadata": {},
   "source": [
    "### Preguntas e Hipótesis\n",
    "\n",
    "1. ¿Qué géneros tienen mayor volumen de ventas globales?\n",
    "2. ¿Qué plataformas concentran más títulos exitosos?\n",
    "3. ¿Existe una relación positiva entre la puntuación de los críticos y las ventas globales?\n",
    "4. ¿Las preferencias regionales (NA, EU, JP) cambian según el género del juego?\n",
    "5. ¿Qué tan significativa es la presencia de valores perdidos en el dataset?\n",
    "\n",
    "Estas preguntas guiarán las visualizaciones y el análisis numérico inicial.\n"
   ]
  },
  {
   "cell_type": "code",
   "execution_count": null,
   "id": "f12b5b28",
   "metadata": {},
   "outputs": [],
   "source": [
    "import pandas as pd\n",
    "import matplotlib.pyplot as plt\n",
    "import seaborn as sns\n",
    "import numpy as np\n",
    "\n",
    "# Cargar el CSV directamente desde GitHub\n",
    "url = \"https://raw.githubusercontent.com/MarcosRomano13/proyecto-ciencia-datos-videojuegos/main/Dataset_final.csv\"\n",
    "df = pd.read_csv(url)\n",
    "\n",
    "# Limpiar nombres de columnas\n",
    "df.columns = df.columns.str.strip().str.replace(\" \", \"_\")\n",
    "df.head()\n"
   ]
  },
  {
   "cell_type": "code",
   "execution_count": null,
   "id": "5abfb2d0",
   "metadata": {},
   "outputs": [],
   "source": [
    "# Revisión de valores nulos\n",
    "missing = df.isnull().sum()\n",
    "missing_percent = (missing / len(df)) * 100\n",
    "missing_df = pd.DataFrame({'Valores_Nulos': missing, 'Porcentaje': missing_percent})\n",
    "missing_df[missing_df.Valores_Nulos > 0]\n"
   ]
  },
  {
   "cell_type": "markdown",
   "id": "3c06c0bf",
   "metadata": {},
   "source": [
    "### Visualización 1: Ventas globales por género y plataforma"
   ]
  },
  {
   "cell_type": "code",
   "execution_count": null,
   "id": "825a3a17",
   "metadata": {},
   "outputs": [],
   "source": [
    "# Visualización multivariada: Promedio de ventas por género y plataforma (top 5 plataformas)\n",
    "top_platforms = df['Platform'].value_counts().head(5).index.tolist()\n",
    "filtered_df = df[df['Platform'].isin(top_platforms)]\n",
    "\n",
    "pivot_df = filtered_df.groupby(['Genre', 'Platform'])['Global_Sales'].mean().reset_index()\n",
    "\n",
    "plt.figure(figsize=(10, 6))\n",
    "heatmap_data = pivot_df.pivot(index='Genre', columns='Platform', values='Global_Sales')\n",
    "sns.heatmap(heatmap_data, annot=True, fmt=\".2f\", cmap=\"YlGnBu\")\n",
    "plt.title('Promedio de Ventas Globales por Género y Plataforma')\n",
    "plt.tight_layout()\n",
    "plt.show()\n"
   ]
  },
  {
   "cell_type": "markdown",
   "id": "c9d84796",
   "metadata": {},
   "source": [
    "### Visualización 2: Crítica vs ventas"
   ]
  },
  {
   "cell_type": "code",
   "execution_count": null,
   "id": "ba331cec",
   "metadata": {},
   "outputs": [],
   "source": [
    "# Relación entre crítica y ventas globales\n",
    "df_scores = df.dropna(subset=['Critic_Score', 'Global_Sales'])\n",
    "\n",
    "plt.figure(figsize=(8, 6))\n",
    "sns.scatterplot(data=df_scores, x='Critic_Score', y='Global_Sales', hue='Genre', alpha=0.7)\n",
    "plt.title('Relación entre Puntuación de Críticos y Ventas Globales')\n",
    "plt.tight_layout()\n",
    "plt.show()\n"
   ]
  },
  {
   "cell_type": "markdown",
   "id": "3f7156ee",
   "metadata": {},
   "source": [
    "### Visualización 3: Ventas NA por género"
   ]
  },
  {
   "cell_type": "code",
   "execution_count": null,
   "id": "f6874fcf",
   "metadata": {},
   "outputs": [],
   "source": [
    "# Distribución de ventas en NA por género\n",
    "plt.figure(figsize=(10, 6))\n",
    "sns.boxplot(data=df, x='Genre', y='NA_Sales')\n",
    "plt.xticks(rotation=45)\n",
    "plt.title('Distribución de Ventas en Norteamérica por Género')\n",
    "plt.tight_layout()\n",
    "plt.show()\n"
   ]
  }
 ],
 "metadata": {},
 "nbformat": 4,
 "nbformat_minor": 5
}
